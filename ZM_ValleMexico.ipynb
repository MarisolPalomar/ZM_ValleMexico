{
  "nbformat": 4,
  "nbformat_minor": 0,
  "metadata": {
    "colab": {
      "name": "ZM_ValleMexico.ipynb",
      "provenance": []
    },
    "kernelspec": {
      "name": "python3",
      "display_name": "Python 3"
    },
    "language_info": {
      "name": "python"
    }
  },
  "cells": [
    {
      "cell_type": "markdown",
      "metadata": {
        "id": "FwRko6iE8Hce"
      },
      "source": [
        "# **ZM → VALLE DE MÉXICO**\n",
        "\n"
      ]
    },
    {
      "cell_type": "markdown",
      "metadata": {
        "id": "MNN3bYyW8OF1"
      },
      "source": [
        "## **LIBRERÍAS A UTILIZAR**"
      ]
    },
    {
      "cell_type": "code",
      "metadata": {
        "id": "XQb6pe0F76Y8"
      },
      "source": [
        "from IPython.core.display import HTML\n",
        "HTML(\"<script>Jupyter.notebook.kernel.restart()</script>\")"
      ],
      "execution_count": null,
      "outputs": []
    },
    {
      "cell_type": "code",
      "metadata": {
        "id": "srIm8llJ8J4f"
      },
      "source": [
        "!pip install mapclassify"
      ],
      "execution_count": null,
      "outputs": []
    },
    {
      "cell_type": "code",
      "metadata": {
        "id": "R3cS71rt8J8g"
      },
      "source": [
        "!pip install libpysal"
      ],
      "execution_count": null,
      "outputs": []
    },
    {
      "cell_type": "code",
      "metadata": {
        "id": "siPfAshP8KBg"
      },
      "source": [
        "!pip install fiona\n",
        "!pip install rtree\n",
        "!pip install pygeos"
      ],
      "execution_count": null,
      "outputs": []
    },
    {
      "cell_type": "code",
      "metadata": {
        "id": "f24Oo-TX8KEf"
      },
      "source": [
        "import fiona\n",
        "import rtree\n",
        "import pygeos"
      ],
      "execution_count": null,
      "outputs": []
    },
    {
      "cell_type": "code",
      "metadata": {
        "id": "WRLa2KW98KJ_"
      },
      "source": [
        "!pip install geopandas"
      ],
      "execution_count": null,
      "outputs": []
    },
    {
      "cell_type": "code",
      "metadata": {
        "id": "fBJCoeri8KNB"
      },
      "source": [
        "!pip install matplotlib"
      ],
      "execution_count": null,
      "outputs": []
    },
    {
      "cell_type": "code",
      "metadata": {
        "id": "FMEA9aG-8KQx"
      },
      "source": [
        "import numpy as np\n",
        "import mapclassify\n",
        "import pandas as pd\n",
        "import libpysal as ps\n",
        "import geopandas as gpd\n",
        "import matplotlib as mpl\n",
        "import matplotlib.pyplot as plt"
      ],
      "execution_count": null,
      "outputs": []
    },
    {
      "cell_type": "code",
      "metadata": {
        "id": "RrUGT6478KVg"
      },
      "source": [
        "!pip install contextily"
      ],
      "execution_count": null,
      "outputs": []
    },
    {
      "cell_type": "code",
      "metadata": {
        "id": "azqWFeTO8KYx"
      },
      "source": [
        "import matplotlib.patches as mpatches\n",
        "import contextily as ctx"
      ],
      "execution_count": null,
      "outputs": []
    },
    {
      "cell_type": "markdown",
      "metadata": {
        "id": "qucPwARi8uKK"
      },
      "source": [
        "## **BD: AGEBs SHAPE, INEGI 2020**"
      ]
    },
    {
      "cell_type": "code",
      "metadata": {
        "id": "gVnbgUkQ8KdR"
      },
      "source": [
        "AGEBS= gpd.read_file('AgebsUrbana_ValleMex_ZM.shp')\n",
        "print ('Forma de los datos:',AGEBS.shape)\n",
        "AGEBS.head(5)"
      ],
      "execution_count": null,
      "outputs": []
    },
    {
      "cell_type": "code",
      "metadata": {
        "id": "06amOMgt8KgB"
      },
      "source": [
        "AGEBS.crsAGEBS.crs"
      ],
      "execution_count": null,
      "outputs": []
    },
    {
      "cell_type": "markdown",
      "metadata": {
        "id": "TmIlk4Fu8yrB"
      },
      "source": [
        "## **BD: ÁREAS VERDES, INEGI 2020**"
      ]
    },
    {
      "cell_type": "code",
      "metadata": {
        "id": "DCcvyslJ8Ki0"
      },
      "source": [
        "Area_Verde= gpd.read_file('SIA_ValleMex_ZM.shp')\n",
        "Area_Verde.head()"
      ],
      "execution_count": null,
      "outputs": []
    },
    {
      "cell_type": "code",
      "metadata": {
        "id": "wts3lbkI8Klb"
      },
      "source": [
        "Area_Verde.crs"
      ],
      "execution_count": null,
      "outputs": []
    },
    {
      "cell_type": "markdown",
      "metadata": {
        "id": "5lWt8Xch82vJ"
      },
      "source": [
        "## **BD: MEDICIÓN DE POBREZA, CONEVAL 2015**"
      ]
    },
    {
      "cell_type": "code",
      "metadata": {
        "id": "2xqwBxxV8KoU"
      },
      "source": [
        "Pobreza_ageb = pd.read_csv ('Pobreza_ValleMX_csv')\n",
        "Pobreza_ageb.head(5)"
      ],
      "execution_count": null,
      "outputs": []
    },
    {
      "cell_type": "markdown",
      "metadata": {
        "id": "bWIQVj8m88qv"
      },
      "source": [
        "## **HOMOLOGAR BASES DE DATOS**"
      ]
    },
    {
      "cell_type": "code",
      "metadata": {
        "id": "_d1o3Lxi8Kq1"
      },
      "source": [
        "AGEBS = AGEBS.rename({'CVEGEO':'Clave_AGEB'}, axis=1)\n",
        "Pobreza_ageb = Pobreza_ageb.rename({'cvegeo':'Clave_AGEB'}, axis=1)\n",
        "Pobreza_ageb = Pobreza_ageb.rename({'pobreza':'Rango_Pobreza'}, axis=1)\n",
        "Pobreza_ageb = Pobreza_ageb.rename({'pobreza_ext':'Rango_PExtrema'}, axis=1)"
      ],
      "execution_count": null,
      "outputs": []
    },
    {
      "cell_type": "code",
      "metadata": {
        "id": "aghIU5Re86U2"
      },
      "source": [
        "Pobreza_ageb=Pobreza_ageb.dropna()"
      ],
      "execution_count": null,
      "outputs": []
    },
    {
      "cell_type": "code",
      "metadata": {
        "id": "2d9ALtEX86Xj"
      },
      "source": [
        "Pobreza_ageb['Min_RP'] = Pobreza_ageb.Rango_Pobreza.str.extract('(\\d+)').astype(int)\n",
        "Pobreza_ageb['Max_RP'] = Pobreza_ageb.Rango_Pobreza.str.extract('( \\d+)').astype(int)\n",
        "Pobreza_ageb['Pobre_AV'] = ((Pobreza_ageb['Min_RP'] + Pobreza_ageb['Max_RP']) / 2)\n",
        "Pobreza_ageb2 = Pobreza_ageb[['Clave_AGEB','nom_mun', 'Rango_Pobreza', 'Pobre_AV' ]]"
      ],
      "execution_count": null,
      "outputs": []
    },
    {
      "cell_type": "code",
      "metadata": {
        "id": "rin0s8BT86aI"
      },
      "source": [
        "Pobreza_ageb2.set_index('Clave_AGEB')\n",
        "AGEBS.set_index('Clave_AGEB')"
      ],
      "execution_count": null,
      "outputs": []
    },
    {
      "cell_type": "code",
      "metadata": {
        "id": "syAltwmB86cd"
      },
      "source": [
        "Pobreza_AGEB = AGEBS.merge(Pobreza_ageb2 ,left_on='Clave_AGEB', right_on='Clave_AGEB',how='left')\n",
        "Pobreza_A = Pobreza_AGEB.copy()\n",
        "print ('Forma de los datos:',Pobreza_AGEB.shape)\n",
        "Pobreza_AGEB.head()"
      ],
      "execution_count": null,
      "outputs": []
    },
    {
      "cell_type": "code",
      "metadata": {
        "id": "vMbKhZ9V8Kuk"
      },
      "source": [
        "Pobreza_A = Pobreza_A.fillna(0)\n",
        "Pobreza_A.head()"
      ],
      "execution_count": null,
      "outputs": []
    },
    {
      "cell_type": "code",
      "metadata": {
        "id": "ndYSUGPq9FG0"
      },
      "source": [
        "Pobreza_AGEB = Pobreza_AGEB.dropna()"
      ],
      "execution_count": null,
      "outputs": []
    },
    {
      "cell_type": "code",
      "metadata": {
        "id": "ne_wpiNO9FJ4"
      },
      "source": [
        "Pobreza_A.crs"
      ],
      "execution_count": null,
      "outputs": []
    },
    {
      "cell_type": "code",
      "metadata": {
        "id": "DvxDlIEL9FMi"
      },
      "source": [
        "Pobreza_A=Pobreza_A.to_crs(epsg=3857)"
      ],
      "execution_count": null,
      "outputs": []
    },
    {
      "cell_type": "code",
      "metadata": {
        "id": "-fqhxGoy9FOj"
      },
      "source": [
        "mapclassify.NaturalBreaks(Pobreza_A['Pobre_AV'].values, k=5)"
      ],
      "execution_count": null,
      "outputs": []
    },
    {
      "cell_type": "markdown",
      "metadata": {
        "id": "-aLIrZKS9MNd"
      },
      "source": [
        "## **MAPA DE POBREZA POR AGEBs**"
      ]
    },
    {
      "cell_type": "code",
      "metadata": {
        "id": "-BlydFIN9FRP"
      },
      "source": [
        "fig, ax = plt.subplots(1,figsize=(16, 18)) \n",
        "Base = Pobreza_A.plot(column='Pobre_AV', \n",
        "              alpha=1, \n",
        "              scheme='NaturalBreaks', \n",
        "              legend=True, \n",
        "              cmap='YlOrRd',\n",
        "              classification_kwds={'k':5},\n",
        "              figsize=(8,8),\n",
        "              ax=ax)\n",
        "plt.title(\"Rango de Pobreza en la ZM del Valle de México, 2015 (%)\", size = 25)\n",
        "ax.set_axis_off() \n",
        "ctx.add_basemap(ax, source=ctx.providers.Stamen.TonerLite, alpha=0.3) \n",
        "plt.show()"
      ],
      "execution_count": null,
      "outputs": []
    },
    {
      "cell_type": "code",
      "metadata": {
        "id": "PN0OWyRS8Kw2"
      },
      "source": [
        "Pobreza_AGEB=Pobreza_AGEB.to_crs(epsg=3857)"
      ],
      "execution_count": null,
      "outputs": []
    },
    {
      "cell_type": "markdown",
      "metadata": {
        "id": "nY3GPGow9ShC"
      },
      "source": [
        "## **MAPA DE POBREZA EXTREMA POR AGEBs**"
      ]
    },
    {
      "cell_type": "code",
      "metadata": {
        "id": "Zd0DmIk_9QpR"
      },
      "source": [
        "fig, ax = plt.subplots(1,figsize=(16, 18)) \n",
        "Base = Pobreza_AGEB.plot(column='Pobre_AV', \n",
        "              alpha=1, \n",
        "              scheme='NaturalBreaks', \n",
        "              legend=True, \n",
        "              cmap='YlOrRd',\n",
        "              classification_kwds={'k':5},\n",
        "              figsize=(8,8),\n",
        "              ax=ax)\n",
        "plt.title(\"Rango de Pobreza en la ZM del Valle de México, 2015 (%)\", size = 25)\n",
        "ax.set_axis_off() \n",
        "ctx.add_basemap(ax, source=ctx.providers.Stamen.TonerLite, alpha=0.3) \n",
        "plt.show()"
      ],
      "execution_count": null,
      "outputs": []
    },
    {
      "cell_type": "markdown",
      "metadata": {
        "id": "cX4zYTOm9Wl_"
      },
      "source": [
        "## **ÁREAS VERDES → OPEN STREET MAPS**"
      ]
    },
    {
      "cell_type": "code",
      "metadata": {
        "id": "YnvT0Nfc9Qr8"
      },
      "source": [
        "!pip install osmnx\n",
        "import osmnx as ox"
      ],
      "execution_count": null,
      "outputs": []
    },
    {
      "cell_type": "code",
      "metadata": {
        "id": "gZFq7E299QvP"
      },
      "source": [
        "!pip install git+git://github.com/geopandas/geopandas.git"
      ],
      "execution_count": null,
      "outputs": []
    },
    {
      "cell_type": "code",
      "metadata": {
        "id": "jOSFvNPy9YYa"
      },
      "source": [
        "tags = {'leisure': True}\n",
        "AreaV = ox.geometries_from_place('Ciudad de México', tags)\n",
        "AreaV.head(10)"
      ],
      "execution_count": null,
      "outputs": []
    },
    {
      "cell_type": "code",
      "metadata": {
        "id": "qWYQrA5F9YbK"
      },
      "source": [
        "tags = {'leisure': True}\n",
        "AreaV1 = ox.geometries_from_place('Estado de México', tags)\n",
        "AreaV1.head(10)"
      ],
      "execution_count": null,
      "outputs": []
    },
    {
      "cell_type": "code",
      "metadata": {
        "id": "KkzFitD6-mJD"
      },
      "source": [
        "tags = {'leisure': True}\n",
        "AreaV2 = ox.geometries_from_place('Hidalgo', tags)\n",
        "AreaV2.head(10)"
      ],
      "execution_count": null,
      "outputs": []
    },
    {
      "cell_type": "markdown",
      "metadata": {
        "id": "wgTczgGt9fSZ"
      },
      "source": [
        "## **SOLO PARQUES → OPEN STREET MAPS**"
      ]
    },
    {
      "cell_type": "code",
      "metadata": {
        "id": "_vB1kEem9Ydu"
      },
      "source": [
        "Parque= AreaV.drop(AreaV[AreaV['leisure']!='park'].index)\n",
        "Parque1= AreaV1.drop(AreaV1[AreaV1['leisure']!='park'].index)\n",
        "Parque2= AreaV2.drop(AreaV2[AreaV2['leisure']!='park'].index)"
      ],
      "execution_count": null,
      "outputs": []
    },
    {
      "cell_type": "code",
      "metadata": {
        "id": "7c9qiL5n9YiO"
      },
      "source": [
        "Parque.head()"
      ],
      "execution_count": null,
      "outputs": []
    },
    {
      "cell_type": "code",
      "metadata": {
        "id": "CtSqgI0g9YlS"
      },
      "source": [
        "Parque.crs"
      ],
      "execution_count": null,
      "outputs": []
    },
    {
      "cell_type": "code",
      "metadata": {
        "id": "U0KDB8Mo9j8G"
      },
      "source": [
        "frames = [Parque, Parque1, Parque2]"
      ],
      "execution_count": null,
      "outputs": []
    },
    {
      "cell_type": "code",
      "metadata": {
        "id": "WBM4BBKp9j_A"
      },
      "source": [
        "Parques=pd.concat(frames)"
      ],
      "execution_count": null,
      "outputs": []
    },
    {
      "cell_type": "code",
      "metadata": {
        "id": "0Xb_Nsfm9kBH"
      },
      "source": [
        "Parques.shape"
      ],
      "execution_count": null,
      "outputs": []
    },
    {
      "cell_type": "code",
      "metadata": {
        "id": "Q33M3wWX9kDa"
      },
      "source": [
        "Parques=Parques.to_crs(epsg=6372)\n",
        "Parques.head()\n",
        "AGEBS=AGEBS.to_crs(epsg=6372)"
      ],
      "execution_count": null,
      "outputs": []
    },
    {
      "cell_type": "markdown",
      "metadata": {
        "id": "r8vorzdN9q_b"
      },
      "source": [
        "## **PLOTEO PARQUES → INEGI**"
      ]
    },
    {
      "cell_type": "code",
      "metadata": {
        "id": "wpdXvHcq9kGX"
      },
      "source": [
        "colors = ['#A1E2E6', '#E6BDA1', '#B3A16B', '#678072', '#524A4A']"
      ],
      "execution_count": null,
      "outputs": []
    },
    {
      "cell_type": "code",
      "metadata": {
        "id": "o3KJru-q9kIx"
      },
      "source": [
        "Parque_Inegi = gpd.clip(Area_Verde, AGEBS)\n",
        "Parque_Inegi.head()"
      ],
      "execution_count": null,
      "outputs": []
    },
    {
      "cell_type": "code",
      "metadata": {
        "id": "zQ5jcjey9t8i"
      },
      "source": [
        "Parques_Leon= AGEBS.plot(color= colors[2], alpha=.2, figsize=(16, 18))\n",
        "Parque_Inegi.plot(ax=Parques_Leon, color= '#039e7d',linewidth= 1.5)\n",
        "plt.title(\"ZM del Valle de México\\n Áreas Verdes de INEGI\", fontsize=25, color= '#03989e')\n",
        "plt.axis('off')\n",
        "plt.show()"
      ],
      "execution_count": null,
      "outputs": []
    },
    {
      "cell_type": "code",
      "metadata": {
        "id": "qd64HJZR9t_d"
      },
      "source": [
        "Parque_Clip = gpd.clip(Parques, AGEBS)\n",
        "Parque_Clip.head()"
      ],
      "execution_count": null,
      "outputs": []
    },
    {
      "cell_type": "markdown",
      "metadata": {
        "id": "V5zmncRG9ynj"
      },
      "source": [
        "## **PLOTEO PARQUES → OPEN STREET MAPS**"
      ]
    },
    {
      "cell_type": "code",
      "metadata": {
        "id": "C1EQuDNr9uB_"
      },
      "source": [
        "Parque_Clips = gpd.clip(Area_Verde, AGEBS)\n",
        "Parque_Clips.head()"
      ],
      "execution_count": null,
      "outputs": []
    },
    {
      "cell_type": "code",
      "metadata": {
        "id": "8-2S1kja9uFz"
      },
      "source": [
        "Parques_LEON_OSM2= AGEBS.plot(color=colors[2], alpha=0.2, figsize=(16, 18))\n",
        "Parque_Clip.plot(ax=Parques_LEON_OSM2, color='#039e7d')\n",
        "plt.title(\"ZM del Valle de México\\n Áreas Verdes de Open Street Map\", fontsize=25, color= '#03989e')\n",
        "plt.axis('off')\n",
        "plt.show()"
      ],
      "execution_count": null,
      "outputs": []
    },
    {
      "cell_type": "code",
      "metadata": {
        "id": "Mm9VAL5A94Gs"
      },
      "source": [
        "AreaV.crs"
      ],
      "execution_count": null,
      "outputs": []
    },
    {
      "cell_type": "code",
      "metadata": {
        "id": "KB4g-P0e94Jo"
      },
      "source": [
        "AreaV_INEGI=Parque_Clips.to_crs(epsg=3857)\n",
        "AreaV_OSM=Parque_Clip.to_crs(epsg=3857)"
      ],
      "execution_count": null,
      "outputs": []
    },
    {
      "cell_type": "markdown",
      "metadata": {
        "id": "IoOU_EJt97Y0"
      },
      "source": [
        "## **PLOTEO → INEGI & POBREZA**"
      ]
    },
    {
      "cell_type": "code",
      "metadata": {
        "id": "PwegPrDO94ML"
      },
      "source": [
        "fig, ax = plt.subplots(1,figsize=(16, 18)) \n",
        "Base = Pobreza_A.plot(column='Pobre_AV',  \n",
        "              alpha=1, \n",
        "              scheme='NaturalBreaks', \n",
        "              legend=True, \n",
        "              cmap='YlOrRd',\n",
        "              classification_kwds={'k':5},\n",
        "              figsize=(8,8),\n",
        "              ax=ax)\n",
        "AreaV_INEGI.plot(ax=Base, color='#039e7d')\n",
        "plt.title(\"Rango de Pobreza en el Valle de México, 2015 (%) \\n Áreas Verdes de INEGI\", fontsize=25, color = '#03989e')\n",
        "ax.set_axis_off() \n",
        "ctx.add_basemap(ax, source=ctx.providers.Stamen.TonerLite, alpha=0.3)\n",
        "plt.show()"
      ],
      "execution_count": null,
      "outputs": []
    },
    {
      "cell_type": "markdown",
      "metadata": {
        "id": "xF5eVdq99-8O"
      },
      "source": [
        "## **PLOTEO → OSM & POBREZA**"
      ]
    },
    {
      "cell_type": "code",
      "metadata": {
        "id": "2Dhd7OE494QE"
      },
      "source": [
        "fig, ax = plt.subplots(1,figsize=(16, 18)) \n",
        "Base = Pobreza_A.plot(column='Pobre_AV',  \n",
        "              alpha=1, \n",
        "              scheme='NaturalBreaks', \n",
        "              legend=True, \n",
        "              cmap='YlOrRd',\n",
        "              classification_kwds={'k':5},\n",
        "              figsize=(8,8),\n",
        "              ax=ax)\n",
        "AreaV_OSM.plot(ax=Base, color='#039e7d')\n",
        "plt.title(\"Rango de Pobreza en el Valle de México, 2015 (%) \\n Áreas Verdes de Open Street Map\", fontsize=25, color = '#03989e')\n",
        "ax.set_axis_off() \n",
        "ctx.add_basemap(ax, source=ctx.providers.Stamen.TonerLite, alpha=0.3)\n",
        "plt.show()"
      ],
      "execution_count": null,
      "outputs": []
    }
  ]
}